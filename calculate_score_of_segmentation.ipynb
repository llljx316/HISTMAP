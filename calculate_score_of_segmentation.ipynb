{
 "cells": [
  {
   "cell_type": "markdown",
   "metadata": {},
   "source": [
    "calculate average"
   ]
  },
  {
   "cell_type": "code",
   "execution_count": 1,
   "metadata": {},
   "outputs": [
    {
     "name": "stderr",
     "output_type": "stream",
     "text": [
      "100%|██████████| 37/37 [00:00<00:00, 19449.71it/s]\n"
     ]
    },
    {
     "name": "stdout",
     "output_type": "stream",
     "text": [
      "result/segres/Bodleian Library 0.9154280205369844 0.9629857490954664\n"
     ]
    },
    {
     "name": "stderr",
     "output_type": "stream",
     "text": [
      "100%|██████████| 16342/16342 [01:14<00:00, 220.80it/s] \n"
     ]
    },
    {
     "name": "stdout",
     "output_type": "stream",
     "text": [
      "result/segres/Ryhiner-Sammlung 0.9291511217347146 0.9647349685558082\n"
     ]
    },
    {
     "name": "stderr",
     "output_type": "stream",
     "text": [
      "100%|██████████| 2379/2379 [00:19<00:00, 123.13it/s]\n"
     ]
    },
    {
     "name": "stdout",
     "output_type": "stream",
     "text": [
      "result/segres/Bibliotheque Nationale de France 0.9182959476661388 0.9644716280545327\n"
     ]
    },
    {
     "name": "stderr",
     "output_type": "stream",
     "text": [
      "100%|██████████| 33/33 [00:00<00:00, 130.95it/s]\n"
     ]
    },
    {
     "name": "stdout",
     "output_type": "stream",
     "text": [
      "result/segres/Biblioteca Digital Hispanica 0.9212075751117121 0.9642660320085505\n"
     ]
    },
    {
     "name": "stderr",
     "output_type": "stream",
     "text": [
      "100%|██████████| 1999/1999 [00:14<00:00, 133.28it/s]\n"
     ]
    },
    {
     "name": "stdout",
     "output_type": "stream",
     "text": [
      "result/segres/John Carter Brown Library 0.920698510851907 0.9655835092769972\n"
     ]
    },
    {
     "name": "stderr",
     "output_type": "stream",
     "text": [
      "100%|██████████| 566/566 [00:04<00:00, 129.51it/s]\n"
     ]
    },
    {
     "name": "stdout",
     "output_type": "stream",
     "text": [
      "result/segres/Beinecke Library 0.9227620025329799 0.9653034559046517\n"
     ]
    },
    {
     "name": "stderr",
     "output_type": "stream",
     "text": [
      "100%|██████████| 3299/3299 [00:31<00:00, 106.34it/s]\n"
     ]
    },
    {
     "name": "stdout",
     "output_type": "stream",
     "text": [
      "result/segres/David Rumsey 0.9172982237040024 0.9665426682028624\n"
     ]
    },
    {
     "name": "stderr",
     "output_type": "stream",
     "text": [
      "100%|██████████| 155/155 [00:01<00:00, 148.47it/s]\n"
     ]
    },
    {
     "name": "stdout",
     "output_type": "stream",
     "text": [
      "result/segres/New York Public Library 0.9127471664261847 0.9655549393317244\n"
     ]
    },
    {
     "name": "stderr",
     "output_type": "stream",
     "text": [
      "100%|██████████| 253/253 [00:01<00:00, 145.62it/s]\n"
     ]
    },
    {
     "name": "stdout",
     "output_type": "stream",
     "text": [
      "result/segres/Library Of Congress 0.9220599946521577 0.9643358983986434\n"
     ]
    },
    {
     "name": "stderr",
     "output_type": "stream",
     "text": [
      "100%|██████████| 946/946 [00:08<00:00, 108.17it/s]\n"
     ]
    },
    {
     "name": "stdout",
     "output_type": "stream",
     "text": [
      "result/segres/Royal Museums Greenwich 0.9203848481599309 0.9647256705026599\n"
     ]
    },
    {
     "name": "stderr",
     "output_type": "stream",
     "text": [
      "100%|██████████| 855/855 [00:06<00:00, 131.30it/s]"
     ]
    },
    {
     "name": "stdout",
     "output_type": "stream",
     "text": [
      "result/segres/Boston Public Library 0.9229115043233226 0.9657481421844979\n"
     ]
    },
    {
     "name": "stderr",
     "output_type": "stream",
     "text": [
      "\n"
     ]
    }
   ],
   "source": [
    "import pickle\n",
    "from pathlib import Path\n",
    "from tqdm import tqdm\n",
    "import pandas as pd\n",
    "\n",
    "segres_dir = Path('result/segres')\n",
    "datasetsfolders = [f for f in segres_dir.iterdir() if f.is_dir()]\n",
    "final_res = pd.DataFrame(columns=[\"dataset\", \"predicted_iou\", \"stability_score\"])\n",
    "\n",
    "\n",
    "\n",
    "for dataset_path in datasetsfolders:\n",
    "    image_paths = [f for f in dataset_path.iterdir() if f.is_dir()]\n",
    "    image_num = 0\n",
    "    predicted_iou_sum =0\n",
    "    stability_score_sum = 0\n",
    "    for img_path in tqdm(image_paths):\n",
    "        try:\n",
    "            with open(str(img_path / 'anns.pickle'), 'rb') as f:\n",
    "                anns = pickle.load(f)\n",
    "            for key, value in anns.items():\n",
    "                image_num += 1\n",
    "                predicted_iou_sum+=value[\"predicted_iou\"]\n",
    "                stability_score_sum+=value[\"stability_score\"]\n",
    "        except:\n",
    "            continue\n",
    "    predicted_iou_avg = predicted_iou_sum/image_num\n",
    "    stability_score_avg = stability_score_sum/image_num\n",
    "    # with open(\"segres_performance.txt\", 'a') as f:\n",
    "    #     f.write(f\"{str(dataset_path)}\")\n",
    "    print(str(dataset_path), predicted_iou_avg, stability_score_avg)\n",
    "    final_res.loc[len(final_res)] = [str(dataset_path.name), predicted_iou_avg, stability_score_avg]\n",
    "\n",
    "final_res.to_csv('seg_res_performance.csv')"
   ]
  }
 ],
 "metadata": {
  "kernelspec": {
   "display_name": "pyljx_2",
   "language": "python",
   "name": "python3"
  },
  "language_info": {
   "codemirror_mode": {
    "name": "ipython",
    "version": 3
   },
   "file_extension": ".py",
   "mimetype": "text/x-python",
   "name": "python",
   "nbconvert_exporter": "python",
   "pygments_lexer": "ipython3",
   "version": "3.10.14"
  }
 },
 "nbformat": 4,
 "nbformat_minor": 2
}
